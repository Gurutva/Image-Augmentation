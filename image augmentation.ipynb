{
 "cells": [
  {
   "cell_type": "markdown",
   "id": "24c4e3ff",
   "metadata": {},
   "source": [
    "# imports and model"
   ]
  },
  {
   "cell_type": "code",
   "execution_count": 5,
   "id": "9fb5d7bd",
   "metadata": {},
   "outputs": [],
   "source": [
    "from keras.preprocessing.image import ImageDataGenerator, array_to_img, img_to_array, load_img\n",
    "\n",
    "datagen = ImageDataGenerator(\n",
    "        rotation_range=90,\n",
    "        width_shift_range=0.2,\n",
    "        height_shift_range=0.2,\n",
    "        shear_range=0.2,\n",
    "        zoom_range=0.2,\n",
    "        horizontal_flip=True,\n",
    "    vertical_flip=True,\n",
    "    brightness_range=[0.2,1.5],\n",
    "        fill_mode='nearest')"
   ]
  },
  {
   "cell_type": "markdown",
   "id": "6e599f9b",
   "metadata": {},
   "source": [
    "# to augment all images in folder"
   ]
  },
  {
   "cell_type": "code",
   "execution_count": 21,
   "id": "f13703ad",
   "metadata": {},
   "outputs": [],
   "source": [
    "import os\n",
    "from PIL import Image\n",
    "\n",
    "original_image_path=\"C:\\\\Users\\\\gurutva.patle\\\\Desktop\\\\Tfl env\\\\ralphlauren\\\\images\\\\\"\n",
    "augmented_path=\"C:/Users/gurutva.patle/Desktop/Tfl env/ralphlauren/preview/\"\n",
    "total_images_req=30\n",
    "augmanted_label_name = \"Heritage Leather Backpack\"\n",
    "\n",
    "folder= os.listdir(original_image_path)\n",
    "limit=(total_images_req//len(folder)) - 1\n",
    "\n",
    "c=1\n",
    "for file_name in folder:\n",
    "    k=os.path.splitext(file_name)[0]\n",
    "    source = original_image_path + file_name\n",
    "    img = load_img(source)\n",
    "    x = img_to_array(img)  # this is a Numpy array with shape (3, 150, 150)\n",
    "    x = x.reshape((1,) + x.shape)  # this is a Numpy array with shape (1, 3, 150, 150)\n",
    "    i = 0\n",
    "    for batch in datagen.flow(x, batch_size=1,\n",
    "                              save_to_dir='preview', save_prefix=k, save_format='png'):\n",
    "        i += 1\n",
    "        if i > limit:\n",
    "            break \n",
    "    \n",
    "    destination = augmented_path\n",
    "    image = Image.open(source).convert(\"RGB\")\n",
    "    image.save(destination+k+\".png\",\"png\")\n",
    "    c += 1\n",
    "\n",
    "\n",
    "count = 1\n",
    "for fn in os.listdir(augmented_path):\n",
    "    s = augmented_path + fn\n",
    "    d = augmented_path + augmanted_label_name + \"_\" + str(count) + \".png\"\n",
    "    os.rename(s, d)\n",
    "    count += 1"
   ]
  },
  {
   "cell_type": "markdown",
   "id": "54da6a41",
   "metadata": {},
   "source": [
    "# to augment single image"
   ]
  },
  {
   "cell_type": "code",
   "execution_count": 89,
   "id": "2429eb59",
   "metadata": {},
   "outputs": [],
   "source": [
    "from keras.preprocessing.image import ImageDataGenerator, array_to_img, img_to_array, load_img\n",
    "\n",
    "datagen = ImageDataGenerator(\n",
    "        rotation_range=90,\n",
    "        width_shift_range=0.2,\n",
    "        height_shift_range=0.2,\n",
    "        shear_range=0.2,\n",
    "        zoom_range=0.2,\n",
    "        horizontal_flip=True,\n",
    "    vertical_flip=True,\n",
    "    brightness_range=[0.2,1.5],\n",
    "        fill_mode='nearest')\n",
    "\n",
    "name='Heritage Leather Backpack 6'\n",
    "\n",
    "img = load_img(\"C:\\\\Users\\\\gurutva.patle\\\\Desktop\\\\Tfl env\\\\ralphlauren\\\\images\\\\\"+name+\".jfif\")  # this is a PIL image\n",
    "x = img_to_array(img)  # this is a Numpy array with shape (3, 150, 150)\n",
    "x = x.reshape((1,) + x.shape)  # this is a Numpy array with shape (1, 3, 150, 150)\n",
    "\n",
    "# the .flow() command below generates batches of randomly transformed images\n",
    "# and saves the results to the `preview/` directory\n",
    "i = 0\n",
    "for batch in datagen.flow(x, batch_size=1,\n",
    "                          save_to_dir='preview', save_prefix=name, save_format='png'):\n",
    "    i += 1\n",
    "    if i > 5:\n",
    "        break \n"
   ]
  },
  {
   "cell_type": "markdown",
   "id": "0bd51ba8",
   "metadata": {},
   "source": [
    "# to rename all files"
   ]
  },
  {
   "cell_type": "code",
   "execution_count": 90,
   "id": "77abf50c",
   "metadata": {},
   "outputs": [],
   "source": [
    "import os\n",
    "folder = \"C:/Users/gurutva.patle/Desktop/Tfl env/ralphlauren/preview/\"\n",
    "count = 1\n",
    "anno_name = \"Heritage Leather Backpack\"\n",
    "for file_name in os.listdir(folder):\n",
    "    source = folder + file_name\n",
    "    destination = folder + anno_name + \"_\" + str(count) + \".png\"\n",
    "    os.rename(source, destination)\n",
    "    count += 1"
   ]
  },
  {
   "cell_type": "code",
   "execution_count": null,
   "id": "2767f413",
   "metadata": {},
   "outputs": [],
   "source": []
  }
 ],
 "metadata": {
  "kernelspec": {
   "display_name": "Python 3 (ipykernel)",
   "language": "python",
   "name": "python3"
  },
  "language_info": {
   "codemirror_mode": {
    "name": "ipython",
    "version": 3
   },
   "file_extension": ".py",
   "mimetype": "text/x-python",
   "name": "python",
   "nbconvert_exporter": "python",
   "pygments_lexer": "ipython3",
   "version": "3.8.11"
  }
 },
 "nbformat": 4,
 "nbformat_minor": 5
}
